{
  "nbformat": 4,
  "nbformat_minor": 0,
  "metadata": {
    "kernelspec": {
      "display_name": "Python 3",
      "language": "python",
      "name": "python3"
    },
    "language_info": {
      "codemirror_mode": {
        "name": "ipython",
        "version": 3
      },
      "file_extension": ".py",
      "mimetype": "text/x-python",
      "name": "python",
      "nbconvert_exporter": "python",
      "pygments_lexer": "ipython3",
      "version": "3.8.5"
    },
    "colab": {
      "name": "Mahek_101903567_3CO22_A5_Q1",
      "provenance": [],
      "collapsed_sections": []
    }
  },
  "cells": [
    {
      "cell_type": "code",
      "metadata": {
        "id": "Z4SKaHY8tfob"
      },
      "source": [
        "# Q1\n",
        "import numpy as np\n",
        "squareFeet = np.array([1400, 1600, 1700, 1875, 1100, 1550, 2350, 2450, 1425, 1700])\n",
        "housePrice = np.array([245, 312, 279, 308, 199, 219, 405, 324, 319, 255])"
      ],
      "execution_count": 1,
      "outputs": []
    },
    {
      "cell_type": "code",
      "metadata": {
        "colab": {
          "base_uri": "https://localhost:8080/"
        },
        "id": "mr61hg2qtfof",
        "outputId": "5dfec70c-a0f3-4ae9-d371-00c8c9cdbb35"
      },
      "source": [
        "print(squareFeet)"
      ],
      "execution_count": 2,
      "outputs": [
        {
          "output_type": "stream",
          "name": "stdout",
          "text": [
            "[1400 1600 1700 1875 1100 1550 2350 2450 1425 1700]\n"
          ]
        }
      ]
    },
    {
      "cell_type": "code",
      "metadata": {
        "colab": {
          "base_uri": "https://localhost:8080/"
        },
        "id": "84psXjW9tfog",
        "outputId": "cad9599a-97a6-4148-c869-e6d1d7e6b152"
      },
      "source": [
        "print(housePrice)"
      ],
      "execution_count": 3,
      "outputs": [
        {
          "output_type": "stream",
          "name": "stdout",
          "text": [
            "[245 312 279 308 199 219 405 324 319 255]\n"
          ]
        }
      ]
    },
    {
      "cell_type": "code",
      "metadata": {
        "colab": {
          "base_uri": "https://localhost:8080/",
          "height": 265
        },
        "id": "t22johDVtfoh",
        "outputId": "989ede3a-5b13-4c10-e0cf-e002f04ed76e"
      },
      "source": [
        "import matplotlib.pyplot as plt\n",
        "plt.scatter(squareFeet, housePrice, marker = 'o')\n",
        "plt.show()"
      ],
      "execution_count": 4,
      "outputs": [
        {
          "output_type": "display_data",
          "data": {
            "image/png": "[encoded data removed]",
            "text/plain": [
              "<Figure size 432x288 with 1 Axes>"
            ]
          },
          "metadata": {
            "needs_background": "light"
          }
        }
      ]
    },
    {
      "cell_type": "code",
      "metadata": {
        "colab": {
          "base_uri": "https://localhost:8080/"
        },
        "id": "-UU3Iq1atfoh",
        "outputId": "0f7e4cea-d18f-4d6f-8466-9b288edbb9e3"
      },
      "source": [
        "x_mean = np.mean(squareFeet)\n",
        "y_mean = np.mean(housePrice)\n",
        "print(x_mean)"
      ],
      "execution_count": 5,
      "outputs": [
        {
          "output_type": "stream",
          "name": "stdout",
          "text": [
            "1715.0\n"
          ]
        }
      ]
    },
    {
      "cell_type": "code",
      "metadata": {
        "colab": {
          "base_uri": "https://localhost:8080/"
        },
        "id": "S8d7iyZKtfoi",
        "outputId": "0804ff40-a7c3-4356-cb38-678104772b9f"
      },
      "source": [
        "print(y_mean)"
      ],
      "execution_count": 6,
      "outputs": [
        {
          "output_type": "stream",
          "name": "stdout",
          "text": [
            "286.5\n"
          ]
        }
      ]
    },
    {
      "cell_type": "code",
      "metadata": {
        "colab": {
          "base_uri": "https://localhost:8080/"
        },
        "id": "2ukG5ffgtfoi",
        "outputId": "1dc91e3a-d7e5-499e-fe9e-937500e600c3"
      },
      "source": [
        "var0 = housePrice-y_mean\n",
        "print(var0)"
      ],
      "execution_count": 7,
      "outputs": [
        {
          "output_type": "stream",
          "name": "stdout",
          "text": [
            "[-41.5  25.5  -7.5  21.5 -87.5 -67.5 118.5  37.5  32.5 -31.5]\n"
          ]
        }
      ]
    },
    {
      "cell_type": "code",
      "metadata": {
        "colab": {
          "base_uri": "https://localhost:8080/"
        },
        "id": "V1nZWV6Utfoj",
        "outputId": "d228569d-2d3b-4d51-b93b-812a98d1f4af"
      },
      "source": [
        "var1 = squareFeet-x_mean\n",
        "print(var1)"
      ],
      "execution_count": 8,
      "outputs": [
        {
          "output_type": "stream",
          "name": "stdout",
          "text": [
            "[-315. -115.  -15.  160. -615. -165.  635.  735. -290.  -15.]\n"
          ]
        }
      ]
    },
    {
      "cell_type": "code",
      "metadata": {
        "colab": {
          "base_uri": "https://localhost:8080/"
        },
        "id": "YcOdytnMtfok",
        "outputId": "35fc896d-7a60-4e17-937d-1db797bb34b8"
      },
      "source": [
        "num = 0\n",
        "for i in range(len(var0)):\n",
        "    num += (var0[i]*var1[i])\n",
        "print(num)"
      ],
      "execution_count": 9,
      "outputs": [
        {
          "output_type": "stream",
          "name": "stdout",
          "text": [
            "172500.0\n"
          ]
        }
      ]
    },
    {
      "cell_type": "code",
      "metadata": {
        "colab": {
          "base_uri": "https://localhost:8080/"
        },
        "id": "6k-ivl9ntfol",
        "outputId": "8ff00532-c267-4f28-cb41-fabe625543f2"
      },
      "source": [
        "den = 0\n",
        "for i in range(len(var0)):\n",
        "    den += (var1[i]*var1[i])\n",
        "print(den)"
      ],
      "execution_count": 10,
      "outputs": [
        {
          "output_type": "stream",
          "name": "stdout",
          "text": [
            "1571500.0\n"
          ]
        }
      ]
    },
    {
      "cell_type": "code",
      "metadata": {
        "colab": {
          "base_uri": "https://localhost:8080/"
        },
        "id": "AKdPa-Pktfol",
        "outputId": "01cb0c94-8a68-4b62-a4f9-5e3ccb667ede"
      },
      "source": [
        "slope = num/den\n",
        "print(slope)"
      ],
      "execution_count": 11,
      "outputs": [
        {
          "output_type": "stream",
          "name": "stdout",
          "text": [
            "0.10976773783009863\n"
          ]
        }
      ]
    },
    {
      "cell_type": "code",
      "metadata": {
        "colab": {
          "base_uri": "https://localhost:8080/"
        },
        "id": "GH9Q7jI9tfom",
        "outputId": "8ac5ab1f-97f9-4a8d-ef76-1571dca0dc50"
      },
      "source": [
        "intercept = np.mean(housePrice)-(slope*(np.mean(squareFeet)))\n",
        "print(intercept)"
      ],
      "execution_count": 12,
      "outputs": [
        {
          "output_type": "stream",
          "name": "stdout",
          "text": [
            "98.24832962138083\n"
          ]
        }
      ]
    },
    {
      "cell_type": "code",
      "metadata": {
        "colab": {
          "base_uri": "https://localhost:8080/",
          "height": 265
        },
        "id": "oVzSnZ24tfom",
        "outputId": "ff537052-5701-45fb-d565-87ad479edc73"
      },
      "source": [
        "x2 = np.arange(150, 2500)\n",
        "plt.plot(x2, (x2*slope)+intercept, color='b')\n",
        "plt.scatter(squareFeet, housePrice)\n",
        "fx = 600\n",
        "fy = (slope*fx)+intercept\n",
        "plt.scatter(fx, fy, c='red')\n",
        "plt.show()"
      ],
      "execution_count": 13,
      "outputs": [
        {
          "output_type": "display_data",
          "data": {
            "image/png": "[encoded data removed]",
            "text/plain": [
              "<Figure size 432x288 with 1 Axes>"
            ]
          },
          "metadata": {
            "needs_background": "light"
          }
        }
      ]
    },
    {
      "cell_type": "code",
      "metadata": {
        "colab": {
          "base_uri": "https://localhost:8080/"
        },
        "id": "2IYQwlD9tfon",
        "outputId": "b9c9d5a5-3507-471b-fa5f-2fe6232ec4c1"
      },
      "source": [
        "x_centroid = x_mean\n",
        "y_centroid = y_mean\n",
        "ans = (slope*x_centroid)+intercept\n",
        "print(ans)"
      ],
      "execution_count": 14,
      "outputs": [
        {
          "output_type": "stream",
          "name": "stdout",
          "text": [
            "286.5\n"
          ]
        }
      ]
    },
    {
      "cell_type": "code",
      "metadata": {
        "colab": {
          "base_uri": "https://localhost:8080/"
        },
        "id": "IrxgnoGItfon",
        "outputId": "e20ed0cf-82be-4731-b947-75e2a42ef272"
      },
      "source": [
        "print(y_centroid)"
      ],
      "execution_count": 15,
      "outputs": [
        {
          "output_type": "stream",
          "name": "stdout",
          "text": [
            "286.5\n"
          ]
        }
      ]
    }
  ]
}