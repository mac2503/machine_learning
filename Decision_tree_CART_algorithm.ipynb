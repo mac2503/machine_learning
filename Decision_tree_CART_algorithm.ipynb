{
  "nbformat": 4,
  "nbformat_minor": 0,
  "metadata": {
    "colab": {
      "name": "Mahek_101903567_3CO22_A11_CART",
      "provenance": [],
      "collapsed_sections": []
    },
    "kernelspec": {
      "name": "python3",
      "display_name": "Python 3"
    },
    "language_info": {
      "name": "python"
    }
  },
  "cells": [
    {
      "cell_type": "code",
      "metadata": {
        "colab": {
          "base_uri": "https://localhost:8080/",
          "height": 423
        },
        "id": "xR5bHhXBJiNq",
        "outputId": "809fef2a-e474-497e-bb62-e86445d1531c"
      },
      "source": [
        "import pandas as pd\n",
        "df = pd.read_csv(r'/content/drive/MyDrive/ML_Sem_5/bank_notes.csv')\n",
        "df"
      ],
      "execution_count": null,
      "outputs": [
        {
          "output_type": "execute_result",
          "data": {
            "text/html": [
              "<div>\n",
              "<style scoped>\n",
              "    .dataframe tbody tr th:only-of-type {\n",
              "        vertical-align: middle;\n",
              "    }\n",
              "\n",
              "    .dataframe tbody tr th {\n",
              "        vertical-align: top;\n",
              "    }\n",
              "\n",
              "    .dataframe thead th {\n",
              "        text-align: right;\n",
              "    }\n",
              "</style>\n",
              "<table border=\"1\" class=\"dataframe\">\n",
              "  <thead>\n",
              "    <tr style=\"text-align: right;\">\n",
              "      <th></th>\n",
              "      <th>variance</th>\n",
              "      <th>skewness</th>\n",
              "      <th>curtosis</th>\n",
              "      <th>entropy</th>\n",
              "      <th>Target</th>\n",
              "    </tr>\n",
              "  </thead>\n",
              "  <tbody>\n",
              "    <tr>\n",
              "      <th>0</th>\n",
              "      <td>3.62160</td>\n",
              "      <td>8.66610</td>\n",
              "      <td>-2.8073</td>\n",
              "      <td>-0.44699</td>\n",
              "      <td>0</td>\n",
              "    </tr>\n",
              "    <tr>\n",
              "      <th>1</th>\n",
              "      <td>4.54590</td>\n",
              "      <td>8.16740</td>\n",
              "      <td>-2.4586</td>\n",
              "      <td>-1.46210</td>\n",
              "      <td>0</td>\n",
              "    </tr>\n",
              "    <tr>\n",
              "      <th>2</th>\n",
              "      <td>3.86600</td>\n",
              "      <td>-2.63830</td>\n",
              "      <td>1.9242</td>\n",
              "      <td>0.10645</td>\n",
              "      <td>0</td>\n",
              "    </tr>\n",
              "    <tr>\n",
              "      <th>3</th>\n",
              "      <td>3.45660</td>\n",
              "      <td>9.52280</td>\n",
              "      <td>-4.0112</td>\n",
              "      <td>-3.59440</td>\n",
              "      <td>0</td>\n",
              "    </tr>\n",
              "    <tr>\n",
              "      <th>4</th>\n",
              "      <td>0.32924</td>\n",
              "      <td>-4.45520</td>\n",
              "      <td>4.5718</td>\n",
              "      <td>-0.98880</td>\n",
              "      <td>0</td>\n",
              "    </tr>\n",
              "    <tr>\n",
              "      <th>...</th>\n",
              "      <td>...</td>\n",
              "      <td>...</td>\n",
              "      <td>...</td>\n",
              "      <td>...</td>\n",
              "      <td>...</td>\n",
              "    </tr>\n",
              "    <tr>\n",
              "      <th>1367</th>\n",
              "      <td>0.40614</td>\n",
              "      <td>1.34920</td>\n",
              "      <td>-1.4501</td>\n",
              "      <td>-0.55949</td>\n",
              "      <td>1</td>\n",
              "    </tr>\n",
              "    <tr>\n",
              "      <th>1368</th>\n",
              "      <td>-1.38870</td>\n",
              "      <td>-4.87730</td>\n",
              "      <td>6.4774</td>\n",
              "      <td>0.34179</td>\n",
              "      <td>1</td>\n",
              "    </tr>\n",
              "    <tr>\n",
              "      <th>1369</th>\n",
              "      <td>-3.75030</td>\n",
              "      <td>-13.45860</td>\n",
              "      <td>17.5932</td>\n",
              "      <td>-2.77710</td>\n",
              "      <td>1</td>\n",
              "    </tr>\n",
              "    <tr>\n",
              "      <th>1370</th>\n",
              "      <td>-3.56370</td>\n",
              "      <td>-8.38270</td>\n",
              "      <td>12.3930</td>\n",
              "      <td>-1.28230</td>\n",
              "      <td>1</td>\n",
              "    </tr>\n",
              "    <tr>\n",
              "      <th>1371</th>\n",
              "      <td>-2.54190</td>\n",
              "      <td>-0.65804</td>\n",
              "      <td>2.6842</td>\n",
              "      <td>1.19520</td>\n",
              "      <td>1</td>\n",
              "    </tr>\n",
              "  </tbody>\n",
              "</table>\n",
              "<p>1372 rows × 5 columns</p>\n",
              "</div>"
            ],
            "text/plain": [
              "      variance  skewness  curtosis  entropy  Target\n",
              "0      3.62160   8.66610   -2.8073 -0.44699       0\n",
              "1      4.54590   8.16740   -2.4586 -1.46210       0\n",
              "2      3.86600  -2.63830    1.9242  0.10645       0\n",
              "3      3.45660   9.52280   -4.0112 -3.59440       0\n",
              "4      0.32924  -4.45520    4.5718 -0.98880       0\n",
              "...        ...       ...       ...      ...     ...\n",
              "1367   0.40614   1.34920   -1.4501 -0.55949       1\n",
              "1368  -1.38870  -4.87730    6.4774  0.34179       1\n",
              "1369  -3.75030 -13.45860   17.5932 -2.77710       1\n",
              "1370  -3.56370  -8.38270   12.3930 -1.28230       1\n",
              "1371  -2.54190  -0.65804    2.6842  1.19520       1\n",
              "\n",
              "[1372 rows x 5 columns]"
            ]
          },
          "metadata": {},
          "execution_count": 27
        }
      ]
    },
    {
      "cell_type": "code",
      "metadata": {
        "colab": {
          "base_uri": "https://localhost:8080/"
        },
        "id": "1CN5sRTrLWsp",
        "outputId": "460b2d22-d120-46df-98ac-4529a5a372cb"
      },
      "source": [
        "df.nunique()"
      ],
      "execution_count": null,
      "outputs": [
        {
          "output_type": "execute_result",
          "data": {
            "text/plain": [
              "variance    1338\n",
              "skewness    1256\n",
              "curtosis    1270\n",
              "entropy     1156\n",
              "Target         2\n",
              "dtype: int64"
            ]
          },
          "metadata": {},
          "execution_count": 28
        }
      ]
    },
    {
      "cell_type": "code",
      "metadata": {
        "colab": {
          "base_uri": "https://localhost:8080/"
        },
        "id": "v0MSTyvFLqQH",
        "outputId": "01fc5ab0-aa41-43d2-953c-13c4c0e40d31"
      },
      "source": [
        "df.isna().sum()"
      ],
      "execution_count": null,
      "outputs": [
        {
          "output_type": "execute_result",
          "data": {
            "text/plain": [
              "variance    0\n",
              "skewness    0\n",
              "curtosis    0\n",
              "entropy     0\n",
              "Target      0\n",
              "dtype: int64"
            ]
          },
          "metadata": {},
          "execution_count": 29
        }
      ]
    },
    {
      "cell_type": "code",
      "metadata": {
        "colab": {
          "base_uri": "https://localhost:8080/"
        },
        "id": "s0eqG7-ALuTg",
        "outputId": "c242930c-01b3-4e8f-ffd4-c50056e8daff"
      },
      "source": [
        "df.Target.value_counts()"
      ],
      "execution_count": null,
      "outputs": [
        {
          "output_type": "execute_result",
          "data": {
            "text/plain": [
              "0    762\n",
              "1    610\n",
              "Name: Target, dtype: int64"
            ]
          },
          "metadata": {},
          "execution_count": 30
        }
      ]
    },
    {
      "cell_type": "code",
      "metadata": {
        "colab": {
          "base_uri": "https://localhost:8080/"
        },
        "id": "JZXKVNbeL4JI",
        "outputId": "d8fda25a-c6d7-4ecf-9bf7-dcc2e89cb684"
      },
      "source": [
        "from sklearn.preprocessing import MinMaxScaler\n",
        "scaler = MinMaxScaler()\n",
        "scaler.fit(df)\n",
        "scaled_df = scaler.transform(df)\n",
        "scaled_df"
      ],
      "execution_count": null,
      "outputs": [
        {
          "output_type": "execute_result",
          "data": {
            "text/plain": [
              "array([[0.76900389, 0.83964273, 0.10678269, 0.73662766, 0.        ],\n",
              "       [0.83565902, 0.82098209, 0.12180412, 0.64432563, 0.        ],\n",
              "       [0.78662859, 0.41664827, 0.31060805, 0.78695091, 0.        ],\n",
              "       ...,\n",
              "       [0.23738543, 0.01176814, 0.98560321, 0.52475518, 1.        ],\n",
              "       [0.25084193, 0.20170105, 0.76158701, 0.6606745 , 1.        ],\n",
              "       [0.32452819, 0.49074676, 0.34334762, 0.88594888, 1.        ]])"
            ]
          },
          "metadata": {},
          "execution_count": 31
        }
      ]
    },
    {
      "cell_type": "code",
      "metadata": {
        "colab": {
          "base_uri": "https://localhost:8080/",
          "height": 423
        },
        "id": "3iYfLh6uNf4p",
        "outputId": "f650bdb0-a797-4aeb-998b-8a4b9fe875c0"
      },
      "source": [
        "new_df = pd.DataFrame(scaled_df)\n",
        "new_df"
      ],
      "execution_count": null,
      "outputs": [
        {
          "output_type": "execute_result",
          "data": {
            "text/html": [
              "<div>\n",
              "<style scoped>\n",
              "    .dataframe tbody tr th:only-of-type {\n",
              "        vertical-align: middle;\n",
              "    }\n",
              "\n",
              "    .dataframe tbody tr th {\n",
              "        vertical-align: top;\n",
              "    }\n",
              "\n",
              "    .dataframe thead th {\n",
              "        text-align: right;\n",
              "    }\n",
              "</style>\n",
              "<table border=\"1\" class=\"dataframe\">\n",
              "  <thead>\n",
              "    <tr style=\"text-align: right;\">\n",
              "      <th></th>\n",
              "      <th>0</th>\n",
              "      <th>1</th>\n",
              "      <th>2</th>\n",
              "      <th>3</th>\n",
              "      <th>4</th>\n",
              "    </tr>\n",
              "  </thead>\n",
              "  <tbody>\n",
              "    <tr>\n",
              "      <th>0</th>\n",
              "      <td>0.769004</td>\n",
              "      <td>0.839643</td>\n",
              "      <td>0.106783</td>\n",
              "      <td>0.736628</td>\n",
              "      <td>0.0</td>\n",
              "    </tr>\n",
              "    <tr>\n",
              "      <th>1</th>\n",
              "      <td>0.835659</td>\n",
              "      <td>0.820982</td>\n",
              "      <td>0.121804</td>\n",
              "      <td>0.644326</td>\n",
              "      <td>0.0</td>\n",
              "    </tr>\n",
              "    <tr>\n",
              "      <th>2</th>\n",
              "      <td>0.786629</td>\n",
              "      <td>0.416648</td>\n",
              "      <td>0.310608</td>\n",
              "      <td>0.786951</td>\n",
              "      <td>0.0</td>\n",
              "    </tr>\n",
              "    <tr>\n",
              "      <th>3</th>\n",
              "      <td>0.757105</td>\n",
              "      <td>0.871699</td>\n",
              "      <td>0.054921</td>\n",
              "      <td>0.450440</td>\n",
              "      <td>0.0</td>\n",
              "    </tr>\n",
              "    <tr>\n",
              "      <th>4</th>\n",
              "      <td>0.531578</td>\n",
              "      <td>0.348662</td>\n",
              "      <td>0.424662</td>\n",
              "      <td>0.687362</td>\n",
              "      <td>0.0</td>\n",
              "    </tr>\n",
              "    <tr>\n",
              "      <th>...</th>\n",
              "      <td>...</td>\n",
              "      <td>...</td>\n",
              "      <td>...</td>\n",
              "      <td>...</td>\n",
              "      <td>...</td>\n",
              "    </tr>\n",
              "    <tr>\n",
              "      <th>1367</th>\n",
              "      <td>0.537124</td>\n",
              "      <td>0.565855</td>\n",
              "      <td>0.165249</td>\n",
              "      <td>0.726398</td>\n",
              "      <td>1.0</td>\n",
              "    </tr>\n",
              "    <tr>\n",
              "      <th>1368</th>\n",
              "      <td>0.407690</td>\n",
              "      <td>0.332868</td>\n",
              "      <td>0.506753</td>\n",
              "      <td>0.808350</td>\n",
              "      <td>1.0</td>\n",
              "    </tr>\n",
              "    <tr>\n",
              "      <th>1369</th>\n",
              "      <td>0.237385</td>\n",
              "      <td>0.011768</td>\n",
              "      <td>0.985603</td>\n",
              "      <td>0.524755</td>\n",
              "      <td>1.0</td>\n",
              "    </tr>\n",
              "    <tr>\n",
              "      <th>1370</th>\n",
              "      <td>0.250842</td>\n",
              "      <td>0.201701</td>\n",
              "      <td>0.761587</td>\n",
              "      <td>0.660675</td>\n",
              "      <td>1.0</td>\n",
              "    </tr>\n",
              "    <tr>\n",
              "      <th>1371</th>\n",
              "      <td>0.324528</td>\n",
              "      <td>0.490747</td>\n",
              "      <td>0.343348</td>\n",
              "      <td>0.885949</td>\n",
              "      <td>1.0</td>\n",
              "    </tr>\n",
              "  </tbody>\n",
              "</table>\n",
              "<p>1372 rows × 5 columns</p>\n",
              "</div>"
            ],
            "text/plain": [
              "             0         1         2         3    4\n",
              "0     0.769004  0.839643  0.106783  0.736628  0.0\n",
              "1     0.835659  0.820982  0.121804  0.644326  0.0\n",
              "2     0.786629  0.416648  0.310608  0.786951  0.0\n",
              "3     0.757105  0.871699  0.054921  0.450440  0.0\n",
              "4     0.531578  0.348662  0.424662  0.687362  0.0\n",
              "...        ...       ...       ...       ...  ...\n",
              "1367  0.537124  0.565855  0.165249  0.726398  1.0\n",
              "1368  0.407690  0.332868  0.506753  0.808350  1.0\n",
              "1369  0.237385  0.011768  0.985603  0.524755  1.0\n",
              "1370  0.250842  0.201701  0.761587  0.660675  1.0\n",
              "1371  0.324528  0.490747  0.343348  0.885949  1.0\n",
              "\n",
              "[1372 rows x 5 columns]"
            ]
          },
          "metadata": {},
          "execution_count": 32
        }
      ]
    },
    {
      "cell_type": "code",
      "metadata": {
        "colab": {
          "base_uri": "https://localhost:8080/",
          "height": 423
        },
        "id": "nLrqBfR2Nn4g",
        "outputId": "89d143ca-0a55-4052-e393-f1267e56cad5"
      },
      "source": [
        "x = new_df.iloc[:, 0:4]\n",
        "x"
      ],
      "execution_count": null,
      "outputs": [
        {
          "output_type": "execute_result",
          "data": {
            "text/html": [
              "<div>\n",
              "<style scoped>\n",
              "    .dataframe tbody tr th:only-of-type {\n",
              "        vertical-align: middle;\n",
              "    }\n",
              "\n",
              "    .dataframe tbody tr th {\n",
              "        vertical-align: top;\n",
              "    }\n",
              "\n",
              "    .dataframe thead th {\n",
              "        text-align: right;\n",
              "    }\n",
              "</style>\n",
              "<table border=\"1\" class=\"dataframe\">\n",
              "  <thead>\n",
              "    <tr style=\"text-align: right;\">\n",
              "      <th></th>\n",
              "      <th>0</th>\n",
              "      <th>1</th>\n",
              "      <th>2</th>\n",
              "      <th>3</th>\n",
              "    </tr>\n",
              "  </thead>\n",
              "  <tbody>\n",
              "    <tr>\n",
              "      <th>0</th>\n",
              "      <td>0.769004</td>\n",
              "      <td>0.839643</td>\n",
              "      <td>0.106783</td>\n",
              "      <td>0.736628</td>\n",
              "    </tr>\n",
              "    <tr>\n",
              "      <th>1</th>\n",
              "      <td>0.835659</td>\n",
              "      <td>0.820982</td>\n",
              "      <td>0.121804</td>\n",
              "      <td>0.644326</td>\n",
              "    </tr>\n",
              "    <tr>\n",
              "      <th>2</th>\n",
              "      <td>0.786629</td>\n",
              "      <td>0.416648</td>\n",
              "      <td>0.310608</td>\n",
              "      <td>0.786951</td>\n",
              "    </tr>\n",
              "    <tr>\n",
              "      <th>3</th>\n",
              "      <td>0.757105</td>\n",
              "      <td>0.871699</td>\n",
              "      <td>0.054921</td>\n",
              "      <td>0.450440</td>\n",
              "    </tr>\n",
              "    <tr>\n",
              "      <th>4</th>\n",
              "      <td>0.531578</td>\n",
              "      <td>0.348662</td>\n",
              "      <td>0.424662</td>\n",
              "      <td>0.687362</td>\n",
              "    </tr>\n",
              "    <tr>\n",
              "      <th>...</th>\n",
              "      <td>...</td>\n",
              "      <td>...</td>\n",
              "      <td>...</td>\n",
              "      <td>...</td>\n",
              "    </tr>\n",
              "    <tr>\n",
              "      <th>1367</th>\n",
              "      <td>0.537124</td>\n",
              "      <td>0.565855</td>\n",
              "      <td>0.165249</td>\n",
              "      <td>0.726398</td>\n",
              "    </tr>\n",
              "    <tr>\n",
              "      <th>1368</th>\n",
              "      <td>0.407690</td>\n",
              "      <td>0.332868</td>\n",
              "      <td>0.506753</td>\n",
              "      <td>0.808350</td>\n",
              "    </tr>\n",
              "    <tr>\n",
              "      <th>1369</th>\n",
              "      <td>0.237385</td>\n",
              "      <td>0.011768</td>\n",
              "      <td>0.985603</td>\n",
              "      <td>0.524755</td>\n",
              "    </tr>\n",
              "    <tr>\n",
              "      <th>1370</th>\n",
              "      <td>0.250842</td>\n",
              "      <td>0.201701</td>\n",
              "      <td>0.761587</td>\n",
              "      <td>0.660675</td>\n",
              "    </tr>\n",
              "    <tr>\n",
              "      <th>1371</th>\n",
              "      <td>0.324528</td>\n",
              "      <td>0.490747</td>\n",
              "      <td>0.343348</td>\n",
              "      <td>0.885949</td>\n",
              "    </tr>\n",
              "  </tbody>\n",
              "</table>\n",
              "<p>1372 rows × 4 columns</p>\n",
              "</div>"
            ],
            "text/plain": [
              "             0         1         2         3\n",
              "0     0.769004  0.839643  0.106783  0.736628\n",
              "1     0.835659  0.820982  0.121804  0.644326\n",
              "2     0.786629  0.416648  0.310608  0.786951\n",
              "3     0.757105  0.871699  0.054921  0.450440\n",
              "4     0.531578  0.348662  0.424662  0.687362\n",
              "...        ...       ...       ...       ...\n",
              "1367  0.537124  0.565855  0.165249  0.726398\n",
              "1368  0.407690  0.332868  0.506753  0.808350\n",
              "1369  0.237385  0.011768  0.985603  0.524755\n",
              "1370  0.250842  0.201701  0.761587  0.660675\n",
              "1371  0.324528  0.490747  0.343348  0.885949\n",
              "\n",
              "[1372 rows x 4 columns]"
            ]
          },
          "metadata": {},
          "execution_count": 33
        }
      ]
    },
    {
      "cell_type": "code",
      "metadata": {
        "colab": {
          "base_uri": "https://localhost:8080/",
          "height": 423
        },
        "id": "4wkiRd40Nw04",
        "outputId": "b2254045-740d-4fb9-d83b-3493e98c6ee8"
      },
      "source": [
        "y = new_df.iloc[:, 4:5]\n",
        "y"
      ],
      "execution_count": null,
      "outputs": [
        {
          "output_type": "execute_result",
          "data": {
            "text/html": [
              "<div>\n",
              "<style scoped>\n",
              "    .dataframe tbody tr th:only-of-type {\n",
              "        vertical-align: middle;\n",
              "    }\n",
              "\n",
              "    .dataframe tbody tr th {\n",
              "        vertical-align: top;\n",
              "    }\n",
              "\n",
              "    .dataframe thead th {\n",
              "        text-align: right;\n",
              "    }\n",
              "</style>\n",
              "<table border=\"1\" class=\"dataframe\">\n",
              "  <thead>\n",
              "    <tr style=\"text-align: right;\">\n",
              "      <th></th>\n",
              "      <th>4</th>\n",
              "    </tr>\n",
              "  </thead>\n",
              "  <tbody>\n",
              "    <tr>\n",
              "      <th>0</th>\n",
              "      <td>0.0</td>\n",
              "    </tr>\n",
              "    <tr>\n",
              "      <th>1</th>\n",
              "      <td>0.0</td>\n",
              "    </tr>\n",
              "    <tr>\n",
              "      <th>2</th>\n",
              "      <td>0.0</td>\n",
              "    </tr>\n",
              "    <tr>\n",
              "      <th>3</th>\n",
              "      <td>0.0</td>\n",
              "    </tr>\n",
              "    <tr>\n",
              "      <th>4</th>\n",
              "      <td>0.0</td>\n",
              "    </tr>\n",
              "    <tr>\n",
              "      <th>...</th>\n",
              "      <td>...</td>\n",
              "    </tr>\n",
              "    <tr>\n",
              "      <th>1367</th>\n",
              "      <td>1.0</td>\n",
              "    </tr>\n",
              "    <tr>\n",
              "      <th>1368</th>\n",
              "      <td>1.0</td>\n",
              "    </tr>\n",
              "    <tr>\n",
              "      <th>1369</th>\n",
              "      <td>1.0</td>\n",
              "    </tr>\n",
              "    <tr>\n",
              "      <th>1370</th>\n",
              "      <td>1.0</td>\n",
              "    </tr>\n",
              "    <tr>\n",
              "      <th>1371</th>\n",
              "      <td>1.0</td>\n",
              "    </tr>\n",
              "  </tbody>\n",
              "</table>\n",
              "<p>1372 rows × 1 columns</p>\n",
              "</div>"
            ],
            "text/plain": [
              "        4\n",
              "0     0.0\n",
              "1     0.0\n",
              "2     0.0\n",
              "3     0.0\n",
              "4     0.0\n",
              "...   ...\n",
              "1367  1.0\n",
              "1368  1.0\n",
              "1369  1.0\n",
              "1370  1.0\n",
              "1371  1.0\n",
              "\n",
              "[1372 rows x 1 columns]"
            ]
          },
          "metadata": {},
          "execution_count": 34
        }
      ]
    },
    {
      "cell_type": "code",
      "metadata": {
        "colab": {
          "base_uri": "https://localhost:8080/",
          "height": 423
        },
        "id": "DV-h0ssWN6Ww",
        "outputId": "143e9e60-706c-4788-9fe3-6839a7b00201"
      },
      "source": [
        "from sklearn.model_selection import train_test_split\n",
        "x_train, x_test, y_train, y_test = train_test_split(x, y, test_size=0.2, random_state=3)\n",
        "x_train"
      ],
      "execution_count": null,
      "outputs": [
        {
          "output_type": "execute_result",
          "data": {
            "text/html": [
              "<div>\n",
              "<style scoped>\n",
              "    .dataframe tbody tr th:only-of-type {\n",
              "        vertical-align: middle;\n",
              "    }\n",
              "\n",
              "    .dataframe tbody tr th {\n",
              "        vertical-align: top;\n",
              "    }\n",
              "\n",
              "    .dataframe thead th {\n",
              "        text-align: right;\n",
              "    }\n",
              "</style>\n",
              "<table border=\"1\" class=\"dataframe\">\n",
              "  <thead>\n",
              "    <tr style=\"text-align: right;\">\n",
              "      <th></th>\n",
              "      <th>0</th>\n",
              "      <th>1</th>\n",
              "      <th>2</th>\n",
              "      <th>3</th>\n",
              "    </tr>\n",
              "  </thead>\n",
              "  <tbody>\n",
              "    <tr>\n",
              "      <th>301</th>\n",
              "      <td>0.722151</td>\n",
              "      <td>0.771197</td>\n",
              "      <td>0.216077</td>\n",
              "      <td>0.842095</td>\n",
              "    </tr>\n",
              "    <tr>\n",
              "      <th>1015</th>\n",
              "      <td>0.442367</td>\n",
              "      <td>0.219666</td>\n",
              "      <td>0.519818</td>\n",
              "      <td>0.808350</td>\n",
              "    </tr>\n",
              "    <tr>\n",
              "      <th>1322</th>\n",
              "      <td>0.437650</td>\n",
              "      <td>0.275262</td>\n",
              "      <td>0.469068</td>\n",
              "      <td>0.871137</td>\n",
              "    </tr>\n",
              "    <tr>\n",
              "      <th>1228</th>\n",
              "      <td>0.411101</td>\n",
              "      <td>0.443668</td>\n",
              "      <td>0.221023</td>\n",
              "      <td>0.766375</td>\n",
              "    </tr>\n",
              "    <tr>\n",
              "      <th>946</th>\n",
              "      <td>0.507743</td>\n",
              "      <td>0.520557</td>\n",
              "      <td>0.219251</td>\n",
              "      <td>0.778015</td>\n",
              "    </tr>\n",
              "    <tr>\n",
              "      <th>...</th>\n",
              "      <td>...</td>\n",
              "      <td>...</td>\n",
              "      <td>...</td>\n",
              "      <td>...</td>\n",
              "    </tr>\n",
              "    <tr>\n",
              "      <th>789</th>\n",
              "      <td>0.583930</td>\n",
              "      <td>0.559737</td>\n",
              "      <td>0.113942</td>\n",
              "      <td>0.787304</td>\n",
              "    </tr>\n",
              "    <tr>\n",
              "      <th>256</th>\n",
              "      <td>0.730913</td>\n",
              "      <td>0.406194</td>\n",
              "      <td>0.323488</td>\n",
              "      <td>0.797533</td>\n",
              "    </tr>\n",
              "    <tr>\n",
              "      <th>968</th>\n",
              "      <td>0.366816</td>\n",
              "      <td>0.523112</td>\n",
              "      <td>0.281448</td>\n",
              "      <td>0.743565</td>\n",
              "    </tr>\n",
              "    <tr>\n",
              "      <th>952</th>\n",
              "      <td>0.415197</td>\n",
              "      <td>0.637785</td>\n",
              "      <td>0.151593</td>\n",
              "      <td>0.480773</td>\n",
              "    </tr>\n",
              "    <tr>\n",
              "      <th>1273</th>\n",
              "      <td>0.337105</td>\n",
              "      <td>0.499032</td>\n",
              "      <td>0.300605</td>\n",
              "      <td>0.738156</td>\n",
              "    </tr>\n",
              "  </tbody>\n",
              "</table>\n",
              "<p>1097 rows × 4 columns</p>\n",
              "</div>"
            ],
            "text/plain": [
              "             0         1         2         3\n",
              "301   0.722151  0.771197  0.216077  0.842095\n",
              "1015  0.442367  0.219666  0.519818  0.808350\n",
              "1322  0.437650  0.275262  0.469068  0.871137\n",
              "1228  0.411101  0.443668  0.221023  0.766375\n",
              "946   0.507743  0.520557  0.219251  0.778015\n",
              "...        ...       ...       ...       ...\n",
              "789   0.583930  0.559737  0.113942  0.787304\n",
              "256   0.730913  0.406194  0.323488  0.797533\n",
              "968   0.366816  0.523112  0.281448  0.743565\n",
              "952   0.415197  0.637785  0.151593  0.480773\n",
              "1273  0.337105  0.499032  0.300605  0.738156\n",
              "\n",
              "[1097 rows x 4 columns]"
            ]
          },
          "metadata": {},
          "execution_count": 35
        }
      ]
    },
    {
      "cell_type": "code",
      "metadata": {
        "colab": {
          "base_uri": "https://localhost:8080/",
          "height": 423
        },
        "id": "7Zz2ix6VOIf3",
        "outputId": "7f9f01be-51b8-4e87-c7e5-d25292204674"
      },
      "source": [
        "x_test"
      ],
      "execution_count": null,
      "outputs": [
        {
          "output_type": "execute_result",
          "data": {
            "text/html": [
              "<div>\n",
              "<style scoped>\n",
              "    .dataframe tbody tr th:only-of-type {\n",
              "        vertical-align: middle;\n",
              "    }\n",
              "\n",
              "    .dataframe tbody tr th {\n",
              "        vertical-align: top;\n",
              "    }\n",
              "\n",
              "    .dataframe thead th {\n",
              "        text-align: right;\n",
              "    }\n",
              "</style>\n",
              "<table border=\"1\" class=\"dataframe\">\n",
              "  <thead>\n",
              "    <tr style=\"text-align: right;\">\n",
              "      <th></th>\n",
              "      <th>0</th>\n",
              "      <th>1</th>\n",
              "      <th>2</th>\n",
              "      <th>3</th>\n",
              "    </tr>\n",
              "  </thead>\n",
              "  <tbody>\n",
              "    <tr>\n",
              "      <th>1258</th>\n",
              "      <td>0.463093</td>\n",
              "      <td>0.536275</td>\n",
              "      <td>0.211094</td>\n",
              "      <td>0.716874</td>\n",
              "    </tr>\n",
              "    <tr>\n",
              "      <th>712</th>\n",
              "      <td>0.853731</td>\n",
              "      <td>0.776772</td>\n",
              "      <td>0.141702</td>\n",
              "      <td>0.745446</td>\n",
              "    </tr>\n",
              "    <tr>\n",
              "      <th>750</th>\n",
              "      <td>0.799335</td>\n",
              "      <td>0.351065</td>\n",
              "      <td>0.432192</td>\n",
              "      <td>0.880657</td>\n",
              "    </tr>\n",
              "    <tr>\n",
              "      <th>1295</th>\n",
              "      <td>0.151252</td>\n",
              "      <td>0.638870</td>\n",
              "      <td>0.273509</td>\n",
              "      <td>0.645971</td>\n",
              "    </tr>\n",
              "    <tr>\n",
              "      <th>888</th>\n",
              "      <td>0.322495</td>\n",
              "      <td>0.259232</td>\n",
              "      <td>0.615418</td>\n",
              "      <td>0.971430</td>\n",
              "    </tr>\n",
              "    <tr>\n",
              "      <th>...</th>\n",
              "      <td>...</td>\n",
              "      <td>...</td>\n",
              "      <td>...</td>\n",
              "      <td>...</td>\n",
              "    </tr>\n",
              "    <tr>\n",
              "      <th>72</th>\n",
              "      <td>0.848077</td>\n",
              "      <td>0.890128</td>\n",
              "      <td>0.057617</td>\n",
              "      <td>0.426453</td>\n",
              "    </tr>\n",
              "    <tr>\n",
              "      <th>143</th>\n",
              "      <td>0.790754</td>\n",
              "      <td>0.393883</td>\n",
              "      <td>0.376677</td>\n",
              "      <td>0.853383</td>\n",
              "    </tr>\n",
              "    <tr>\n",
              "      <th>577</th>\n",
              "      <td>0.788806</td>\n",
              "      <td>0.336120</td>\n",
              "      <td>0.373985</td>\n",
              "      <td>0.728397</td>\n",
              "    </tr>\n",
              "    <tr>\n",
              "      <th>595</th>\n",
              "      <td>0.737418</td>\n",
              "      <td>0.785985</td>\n",
              "      <td>0.181567</td>\n",
              "      <td>0.541686</td>\n",
              "    </tr>\n",
              "    <tr>\n",
              "      <th>448</th>\n",
              "      <td>0.791705</td>\n",
              "      <td>0.911576</td>\n",
              "      <td>0.067250</td>\n",
              "      <td>0.385071</td>\n",
              "    </tr>\n",
              "  </tbody>\n",
              "</table>\n",
              "<p>275 rows × 4 columns</p>\n",
              "</div>"
            ],
            "text/plain": [
              "             0         1         2         3\n",
              "1258  0.463093  0.536275  0.211094  0.716874\n",
              "712   0.853731  0.776772  0.141702  0.745446\n",
              "750   0.799335  0.351065  0.432192  0.880657\n",
              "1295  0.151252  0.638870  0.273509  0.645971\n",
              "888   0.322495  0.259232  0.615418  0.971430\n",
              "...        ...       ...       ...       ...\n",
              "72    0.848077  0.890128  0.057617  0.426453\n",
              "143   0.790754  0.393883  0.376677  0.853383\n",
              "577   0.788806  0.336120  0.373985  0.728397\n",
              "595   0.737418  0.785985  0.181567  0.541686\n",
              "448   0.791705  0.911576  0.067250  0.385071\n",
              "\n",
              "[275 rows x 4 columns]"
            ]
          },
          "metadata": {},
          "execution_count": 36
        }
      ]
    },
    {
      "cell_type": "code",
      "metadata": {
        "colab": {
          "base_uri": "https://localhost:8080/",
          "height": 423
        },
        "id": "R6t04iJEOLG_",
        "outputId": "2f41e069-f1a5-4f1f-9493-19bc13de6820"
      },
      "source": [
        "y_train"
      ],
      "execution_count": null,
      "outputs": [
        {
          "output_type": "execute_result",
          "data": {
            "text/html": [
              "<div>\n",
              "<style scoped>\n",
              "    .dataframe tbody tr th:only-of-type {\n",
              "        vertical-align: middle;\n",
              "    }\n",
              "\n",
              "    .dataframe tbody tr th {\n",
              "        vertical-align: top;\n",
              "    }\n",
              "\n",
              "    .dataframe thead th {\n",
              "        text-align: right;\n",
              "    }\n",
              "</style>\n",
              "<table border=\"1\" class=\"dataframe\">\n",
              "  <thead>\n",
              "    <tr style=\"text-align: right;\">\n",
              "      <th></th>\n",
              "      <th>4</th>\n",
              "    </tr>\n",
              "  </thead>\n",
              "  <tbody>\n",
              "    <tr>\n",
              "      <th>301</th>\n",
              "      <td>0.0</td>\n",
              "    </tr>\n",
              "    <tr>\n",
              "      <th>1015</th>\n",
              "      <td>1.0</td>\n",
              "    </tr>\n",
              "    <tr>\n",
              "      <th>1322</th>\n",
              "      <td>1.0</td>\n",
              "    </tr>\n",
              "    <tr>\n",
              "      <th>1228</th>\n",
              "      <td>1.0</td>\n",
              "    </tr>\n",
              "    <tr>\n",
              "      <th>946</th>\n",
              "      <td>1.0</td>\n",
              "    </tr>\n",
              "    <tr>\n",
              "      <th>...</th>\n",
              "      <td>...</td>\n",
              "    </tr>\n",
              "    <tr>\n",
              "      <th>789</th>\n",
              "      <td>1.0</td>\n",
              "    </tr>\n",
              "    <tr>\n",
              "      <th>256</th>\n",
              "      <td>0.0</td>\n",
              "    </tr>\n",
              "    <tr>\n",
              "      <th>968</th>\n",
              "      <td>1.0</td>\n",
              "    </tr>\n",
              "    <tr>\n",
              "      <th>952</th>\n",
              "      <td>1.0</td>\n",
              "    </tr>\n",
              "    <tr>\n",
              "      <th>1273</th>\n",
              "      <td>1.0</td>\n",
              "    </tr>\n",
              "  </tbody>\n",
              "</table>\n",
              "<p>1097 rows × 1 columns</p>\n",
              "</div>"
            ],
            "text/plain": [
              "        4\n",
              "301   0.0\n",
              "1015  1.0\n",
              "1322  1.0\n",
              "1228  1.0\n",
              "946   1.0\n",
              "...   ...\n",
              "789   1.0\n",
              "256   0.0\n",
              "968   1.0\n",
              "952   1.0\n",
              "1273  1.0\n",
              "\n",
              "[1097 rows x 1 columns]"
            ]
          },
          "metadata": {},
          "execution_count": 37
        }
      ]
    },
    {
      "cell_type": "code",
      "metadata": {
        "colab": {
          "base_uri": "https://localhost:8080/",
          "height": 423
        },
        "id": "AziV0c08OLOm",
        "outputId": "3dd22f9f-222a-43d3-d3eb-d6f4b08c7ecd"
      },
      "source": [
        "y_test"
      ],
      "execution_count": null,
      "outputs": [
        {
          "output_type": "execute_result",
          "data": {
            "text/html": [
              "<div>\n",
              "<style scoped>\n",
              "    .dataframe tbody tr th:only-of-type {\n",
              "        vertical-align: middle;\n",
              "    }\n",
              "\n",
              "    .dataframe tbody tr th {\n",
              "        vertical-align: top;\n",
              "    }\n",
              "\n",
              "    .dataframe thead th {\n",
              "        text-align: right;\n",
              "    }\n",
              "</style>\n",
              "<table border=\"1\" class=\"dataframe\">\n",
              "  <thead>\n",
              "    <tr style=\"text-align: right;\">\n",
              "      <th></th>\n",
              "      <th>4</th>\n",
              "    </tr>\n",
              "  </thead>\n",
              "  <tbody>\n",
              "    <tr>\n",
              "      <th>1258</th>\n",
              "      <td>1.0</td>\n",
              "    </tr>\n",
              "    <tr>\n",
              "      <th>712</th>\n",
              "      <td>0.0</td>\n",
              "    </tr>\n",
              "    <tr>\n",
              "      <th>750</th>\n",
              "      <td>0.0</td>\n",
              "    </tr>\n",
              "    <tr>\n",
              "      <th>1295</th>\n",
              "      <td>1.0</td>\n",
              "    </tr>\n",
              "    <tr>\n",
              "      <th>888</th>\n",
              "      <td>1.0</td>\n",
              "    </tr>\n",
              "    <tr>\n",
              "      <th>...</th>\n",
              "      <td>...</td>\n",
              "    </tr>\n",
              "    <tr>\n",
              "      <th>72</th>\n",
              "      <td>0.0</td>\n",
              "    </tr>\n",
              "    <tr>\n",
              "      <th>143</th>\n",
              "      <td>0.0</td>\n",
              "    </tr>\n",
              "    <tr>\n",
              "      <th>577</th>\n",
              "      <td>0.0</td>\n",
              "    </tr>\n",
              "    <tr>\n",
              "      <th>595</th>\n",
              "      <td>0.0</td>\n",
              "    </tr>\n",
              "    <tr>\n",
              "      <th>448</th>\n",
              "      <td>0.0</td>\n",
              "    </tr>\n",
              "  </tbody>\n",
              "</table>\n",
              "<p>275 rows × 1 columns</p>\n",
              "</div>"
            ],
            "text/plain": [
              "        4\n",
              "1258  1.0\n",
              "712   0.0\n",
              "750   0.0\n",
              "1295  1.0\n",
              "888   1.0\n",
              "...   ...\n",
              "72    0.0\n",
              "143   0.0\n",
              "577   0.0\n",
              "595   0.0\n",
              "448   0.0\n",
              "\n",
              "[275 rows x 1 columns]"
            ]
          },
          "metadata": {},
          "execution_count": 38
        }
      ]
    },
    {
      "cell_type": "code",
      "metadata": {
        "colab": {
          "base_uri": "https://localhost:8080/"
        },
        "id": "gGjakQaJOO8H",
        "outputId": "e709b2f5-7e9e-4dfa-d60a-7ac57dfc08a9"
      },
      "source": [
        "from sklearn.tree import DecisionTreeClassifier\n",
        "model = DecisionTreeClassifier(criterion = \"gini\", random_state = 3)\n",
        "model.fit(x_train, y_train)"
      ],
      "execution_count": null,
      "outputs": [
        {
          "output_type": "execute_result",
          "data": {
            "text/plain": [
              "DecisionTreeClassifier(random_state=3)"
            ]
          },
          "metadata": {},
          "execution_count": 39
        }
      ]
    },
    {
      "cell_type": "code",
      "metadata": {
        "colab": {
          "base_uri": "https://localhost:8080/"
        },
        "id": "e6aZNxEaQ23s",
        "outputId": "e8fd414e-ec76-4f85-a98f-72157d922ffa"
      },
      "source": [
        "y_pred = model.predict(x_test)\n",
        "y_pred"
      ],
      "execution_count": null,
      "outputs": [
        {
          "output_type": "execute_result",
          "data": {
            "text/plain": [
              "array([1., 0., 0., 1., 1., 0., 1., 0., 1., 1., 0., 1., 0., 1., 1., 0., 1.,\n",
              "       1., 0., 1., 0., 0., 0., 0., 1., 1., 0., 1., 1., 1., 0., 1., 0., 0.,\n",
              "       1., 1., 1., 0., 1., 0., 1., 1., 1., 0., 1., 0., 1., 1., 0., 0., 0.,\n",
              "       0., 0., 1., 1., 0., 1., 1., 0., 0., 0., 0., 1., 1., 0., 0., 1., 1.,\n",
              "       0., 0., 0., 1., 0., 1., 0., 0., 0., 1., 1., 1., 0., 1., 0., 0., 0.,\n",
              "       0., 1., 0., 0., 1., 0., 0., 0., 0., 0., 0., 1., 1., 1., 0., 0., 0.,\n",
              "       1., 1., 0., 1., 0., 1., 1., 1., 1., 0., 0., 0., 0., 0., 0., 0., 0.,\n",
              "       0., 1., 0., 0., 1., 1., 1., 0., 0., 1., 0., 0., 0., 0., 0., 0., 0.,\n",
              "       0., 1., 0., 1., 1., 1., 1., 0., 0., 0., 0., 0., 0., 1., 1., 0., 0.,\n",
              "       0., 1., 0., 0., 0., 0., 0., 0., 1., 1., 0., 0., 0., 1., 1., 0., 0.,\n",
              "       0., 0., 0., 1., 0., 1., 0., 0., 0., 1., 0., 0., 0., 0., 0., 1., 0.,\n",
              "       0., 1., 0., 0., 1., 0., 1., 1., 1., 1., 0., 1., 1., 0., 0., 0., 0.,\n",
              "       1., 0., 1., 0., 0., 1., 0., 1., 1., 1., 0., 0., 0., 0., 1., 0., 0.,\n",
              "       0., 0., 1., 0., 1., 0., 1., 0., 1., 0., 0., 1., 1., 0., 0., 1., 0.,\n",
              "       0., 1., 0., 0., 0., 1., 0., 0., 0., 1., 0., 0., 0., 1., 0., 0., 0.,\n",
              "       0., 1., 1., 0., 1., 1., 0., 1., 0., 0., 1., 1., 0., 0., 0., 0., 0.,\n",
              "       0., 0., 0.])"
            ]
          },
          "metadata": {},
          "execution_count": 40
        }
      ]
    },
    {
      "cell_type": "code",
      "metadata": {
        "colab": {
          "base_uri": "https://localhost:8080/"
        },
        "id": "Vd9gorXtROnf",
        "outputId": "6d9e842a-7d7e-46b2-9578-a3ee82f81173"
      },
      "source": [
        "from sklearn.metrics import accuracy_score\n",
        "accuracy_score(y_test, y_pred)"
      ],
      "execution_count": null,
      "outputs": [
        {
          "output_type": "execute_result",
          "data": {
            "text/plain": [
              "0.9818181818181818"
            ]
          },
          "metadata": {},
          "execution_count": 41
        }
      ]
    },
    {
      "cell_type": "code",
      "metadata": {
        "colab": {
          "base_uri": "https://localhost:8080/"
        },
        "id": "pnt4McAVRrOg",
        "outputId": "ac3cda8b-65a9-43cd-e29b-f049a80df1ea"
      },
      "source": [
        "from sklearn.metrics import precision_score\n",
        "precision_score(y_test, y_pred, average=None)"
      ],
      "execution_count": null,
      "outputs": [
        {
          "output_type": "execute_result",
          "data": {
            "text/plain": [
              "array([0.98802395, 0.97222222])"
            ]
          },
          "metadata": {},
          "execution_count": 42
        }
      ]
    },
    {
      "cell_type": "code",
      "metadata": {
        "colab": {
          "base_uri": "https://localhost:8080/"
        },
        "id": "35sG1uplRuIf",
        "outputId": "9852662b-1b3e-404a-ab3b-ed06a7bf1027"
      },
      "source": [
        "from sklearn.metrics import recall_score\n",
        "recall_score(y_test, y_pred, average=None)"
      ],
      "execution_count": null,
      "outputs": [
        {
          "output_type": "execute_result",
          "data": {
            "text/plain": [
              "array([0.98214286, 0.98130841])"
            ]
          },
          "metadata": {},
          "execution_count": 43
        }
      ]
    },
    {
      "cell_type": "code",
      "metadata": {
        "colab": {
          "base_uri": "https://localhost:8080/"
        },
        "id": "plugIAIvRxi4",
        "outputId": "9bc6bb60-717f-4a2b-9cc9-dac1a5866d4e"
      },
      "source": [
        "from sklearn.metrics import f1_score\n",
        "f1_score(y_test, y_pred, average=None)"
      ],
      "execution_count": null,
      "outputs": [
        {
          "output_type": "execute_result",
          "data": {
            "text/plain": [
              "array([0.98507463, 0.97674419])"
            ]
          },
          "metadata": {},
          "execution_count": 44
        }
      ]
    },
    {
      "cell_type": "code",
      "metadata": {
        "colab": {
          "base_uri": "https://localhost:8080/"
        },
        "id": "7XT4nmX9R0Iw",
        "outputId": "3ede4b01-1062-4768-83e1-fa0b3e61c85b"
      },
      "source": [
        "from sklearn.metrics import confusion_matrix\n",
        "cm = confusion_matrix(y_test, y_pred)\n",
        "print(cm)"
      ],
      "execution_count": null,
      "outputs": [
        {
          "output_type": "stream",
          "name": "stdout",
          "text": [
            "[[165   3]\n",
            " [  2 105]]\n"
          ]
        }
      ]
    },
    {
      "cell_type": "code",
      "metadata": {
        "colab": {
          "base_uri": "https://localhost:8080/"
        },
        "id": "X7C-WbQwR3S_",
        "outputId": "eb3cb6fe-0271-4e2d-fe38-13bee84f8ce0"
      },
      "source": [
        "import numpy as np\n",
        "TP = np.diag(cm)\n",
        "FP = cm.sum(axis=0) - np.diag(cm)  \n",
        "FN = cm.sum(axis=1) - np.diag(cm)\n",
        "TN = cm.sum() - (FP + FN + TP)\n",
        "TPR = TP/(TP+FN)\n",
        "TNR = TN/(TN+FP) \n",
        "FPR = FP/(FP+TN)\n",
        "FNR = FN/(TP+FN)\n",
        "print(\"TPR: \", TPR)\n",
        "print(\"TNR: \", TNR)\n",
        "print(\"FPR: \", FPR)\n",
        "print(\"FNR: \", FNR)"
      ],
      "execution_count": null,
      "outputs": [
        {
          "output_type": "stream",
          "name": "stdout",
          "text": [
            "TPR:  [0.98214286 0.98130841]\n",
            "TNR:  [0.98130841 0.98214286]\n",
            "FPR:  [0.01869159 0.01785714]\n",
            "FNR:  [0.01785714 0.01869159]\n"
          ]
        }
      ]
    },
    {
      "cell_type": "code",
      "metadata": {
        "colab": {
          "base_uri": "https://localhost:8080/"
        },
        "id": "sx0x1qdpR7AY",
        "outputId": "b01efc77-1d77-4705-e36f-5cc0b26df2ad"
      },
      "source": [
        "depth = []\n",
        "accuracy = []\n",
        "for i in range(1, 9):\n",
        "  depth.append(i)\n",
        "  dtc = DecisionTreeClassifier(criterion = \"gini\", max_depth=i, random_state = 3)\n",
        "  dtc.fit(x_train, y_train)\n",
        "  y_pred = dtc.predict(x_test)\n",
        "  acc = accuracy_score(y_test, y_pred)\n",
        "  accuracy.append(acc)\n",
        "  print(\"Height: \", i)\n",
        "  print(\"Accuracy: \", acc)"
      ],
      "execution_count": null,
      "outputs": [
        {
          "output_type": "stream",
          "name": "stdout",
          "text": [
            "Height:  1\n",
            "Accuracy:  0.8581818181818182\n",
            "Height:  2\n",
            "Accuracy:  0.9090909090909091\n",
            "Height:  3\n",
            "Accuracy:  0.9272727272727272\n",
            "Height:  4\n",
            "Accuracy:  0.9418181818181818\n",
            "Height:  5\n",
            "Accuracy:  0.9709090909090909\n",
            "Height:  6\n",
            "Accuracy:  0.9781818181818182\n",
            "Height:  7\n",
            "Accuracy:  0.9818181818181818\n",
            "Height:  8\n",
            "Accuracy:  0.9818181818181818\n"
          ]
        }
      ]
    },
    {
      "cell_type": "code",
      "metadata": {
        "colab": {
          "base_uri": "https://localhost:8080/"
        },
        "id": "5XfRtKv6SZvy",
        "outputId": "28580c09-b76e-4183-8096-d55f9d511abd"
      },
      "source": [
        "print(depth)\n",
        "print(accuracy)"
      ],
      "execution_count": null,
      "outputs": [
        {
          "output_type": "stream",
          "name": "stdout",
          "text": [
            "[1, 2, 3, 4, 5, 6, 7, 8]\n",
            "[0.8581818181818182, 0.9090909090909091, 0.9272727272727272, 0.9418181818181818, 0.9709090909090909, 0.9781818181818182, 0.9818181818181818, 0.9818181818181818]\n"
          ]
        }
      ]
    },
    {
      "cell_type": "code",
      "metadata": {
        "colab": {
          "base_uri": "https://localhost:8080/",
          "height": 279
        },
        "id": "BhHYayxkSiAh",
        "outputId": "58257220-e05e-4111-952b-8a549feccc6f"
      },
      "source": [
        "import matplotlib.pyplot as plt\n",
        "plt.plot(depth, accuracy)\n",
        "plt.xlabel('Decision tree depth')\n",
        "plt.ylabel('Accuracy')\n",
        "plt.show()"
      ],
      "execution_count": null,
      "outputs": [
        {
          "output_type": "display_data",
          "data": {
            "image/png": "[encoded data removed]",
            "text/plain": [
              "<Figure size 432x288 with 1 Axes>"
            ]
          },
          "metadata": {
            "needs_background": "light"
          }
        }
      ]
    }
  ]
}